{
 "cells": [
  {
   "cell_type": "code",
   "execution_count": null,
   "metadata": {
    "colab": {
     "base_uri": "https://localhost:8080/",
     "height": 85
    },
    "executionInfo": {
     "elapsed": 454,
     "status": "ok",
     "timestamp": 1602825407246,
     "user": {
      "displayName": "Ayaan Pupala",
      "photoUrl": "https://lh3.googleusercontent.com/-y8rfQvBFBF8/AAAAAAAAAAI/AAAAAAAAP-4/ooCzVQ-uc8k/s64/photo.jpg",
      "userId": "07730768489439528955"
     },
     "user_tz": 300
    },
    "id": "Xa8n3T_kKeya",
    "outputId": "c608421f-3951-43d4-f7ca-e888d773bf48"
   },
   "outputs": [
    {
     "name": "stdout",
     "output_type": "stream",
     "text": [
      "nvcc: NVIDIA (R) Cuda compiler driver\n",
      "Copyright (c) 2005-2019 NVIDIA Corporation\n",
      "Built on Sun_Jul_28_19:07:16_PDT_2019\n",
      "Cuda compilation tools, release 10.1, V10.1.243\n"
     ]
    }
   ],
   "source": [
    "!nvcc --version"
   ]
  },
  {
   "cell_type": "code",
   "execution_count": 1,
   "metadata": {
    "colab": {
     "base_uri": "https://localhost:8080/",
     "height": 0
    },
    "executionInfo": {
     "elapsed": 145958,
     "status": "ok",
     "timestamp": 1604637716868,
     "user": {
      "displayName": "Ayaan Pupala",
      "photoUrl": "https://lh3.googleusercontent.com/-y8rfQvBFBF8/AAAAAAAAAAI/AAAAAAAAP-4/ooCzVQ-uc8k/s64/photo.jpg",
      "userId": "07730768489439528955"
     },
     "user_tz": 360
    },
    "id": "xP0zsSz-6B6S",
    "outputId": "814fcfa0-07f1-4f35-c058-8f5066e05332"
   },
   "outputs": [
    {
     "name": "stdout",
     "output_type": "stream",
     "text": [
      "Looking in links: https://download.pytorch.org/whl/torch_stable.html\n",
      "Collecting torch==1.5.1+cu101\n",
      "\u001b[?25l  Downloading https://download.pytorch.org/whl/cu101/torch-1.5.1%2Bcu101-cp36-cp36m-linux_x86_64.whl (704.4MB)\n",
      "\u001b[K     |████████████████████████████████| 704.4MB 27kB/s \n",
      "\u001b[?25hCollecting torchvision==0.6.1+cu101\n",
      "\u001b[?25l  Downloading https://download.pytorch.org/whl/cu101/torchvision-0.6.1%2Bcu101-cp36-cp36m-linux_x86_64.whl (6.6MB)\n",
      "\u001b[K     |████████████████████████████████| 6.6MB 35.4MB/s \n",
      "\u001b[?25hRequirement already satisfied: future in /usr/local/lib/python3.6/dist-packages (from torch==1.5.1+cu101) (0.16.0)\n",
      "Requirement already satisfied: numpy in /usr/local/lib/python3.6/dist-packages (from torch==1.5.1+cu101) (1.18.5)\n",
      "Requirement already satisfied: pillow>=4.1.1 in /usr/local/lib/python3.6/dist-packages (from torchvision==0.6.1+cu101) (7.0.0)\n",
      "Installing collected packages: torch, torchvision\n",
      "  Found existing installation: torch 1.7.0+cu101\n",
      "    Uninstalling torch-1.7.0+cu101:\n",
      "      Successfully uninstalled torch-1.7.0+cu101\n",
      "  Found existing installation: torchvision 0.8.1+cu101\n",
      "    Uninstalling torchvision-0.8.1+cu101:\n",
      "      Successfully uninstalled torchvision-0.8.1+cu101\n",
      "Successfully installed torch-1.5.1+cu101 torchvision-0.6.1+cu101\n"
     ]
    }
   ],
   "source": [
    "pip install torch==1.5.1+cu101 torchvision==0.6.1+cu101 -f https://download.pytorch.org/whl/torch_stable.html"
   ]
  },
  {
   "cell_type": "code",
   "execution_count": 8,
   "metadata": {
    "executionInfo": {
     "elapsed": 3278,
     "status": "ok",
     "timestamp": 1604637835460,
     "user": {
      "displayName": "Ayaan Pupala",
      "photoUrl": "https://lh3.googleusercontent.com/-y8rfQvBFBF8/AAAAAAAAAAI/AAAAAAAAP-4/ooCzVQ-uc8k/s64/photo.jpg",
      "userId": "07730768489439528955"
     },
     "user_tz": 360
    },
    "id": "YKnDjMkVKccZ"
   },
   "outputs": [],
   "source": [
    "import os\n",
    "import numpy as np\n",
    "import torch\n",
    "import torch.nn as nn\n",
    "import torchvision\n",
    "\n",
    "from torchvision import transforms\n",
    "from sklearn.metrics import average_precision_score\n",
    "from PIL import Image, ImageDraw\n",
    "import matplotlib.pyplot as plt\n",
    "from kaggle_submission import output_submission_csv\n",
    "from classifier import SimpleClassifier, Classifier#, AlexNet\n",
    "from voc_dataloader import VocDataset, VOC_CLASSES\n",
    "\n",
    "%matplotlib inline\n",
    "%load_ext autoreload\n",
    "%autoreload 2"
   ]
  },
  {
   "cell_type": "code",
   "execution_count": 2,
   "metadata": {
    "colab": {
     "base_uri": "https://localhost:8080/",
     "height": 0
    },
    "executionInfo": {
     "elapsed": 29594,
     "status": "ok",
     "timestamp": 1604637749171,
     "user": {
      "displayName": "Ayaan Pupala",
      "photoUrl": "https://lh3.googleusercontent.com/-y8rfQvBFBF8/AAAAAAAAAAI/AAAAAAAAP-4/ooCzVQ-uc8k/s64/photo.jpg",
      "userId": "07730768489439528955"
     },
     "user_tz": 360
    },
    "id": "QA6RJTleMUI_",
    "outputId": "67f19b7a-ccd5-41ab-bacf-33668fd23f27"
   },
   "outputs": [
    {
     "name": "stdout",
     "output_type": "stream",
     "text": [
      "Mounted at /content/gdrive\n"
     ]
    }
   ],
   "source": [
    "from google.colab import drive\n",
    "drive.mount('/content/gdrive')\n",
    "import os\n",
    "os.chdir(\"/content/gdrive/My Drive/498/as3p1\")"
   ]
  },
  {
   "cell_type": "code",
   "execution_count": 14,
   "metadata": {
    "colab": {
     "base_uri": "https://localhost:8080/",
     "height": 35
    },
    "executionInfo": {
     "elapsed": 37831,
     "status": "ok",
     "timestamp": 1604637894547,
     "user": {
      "displayName": "Ayaan Pupala",
      "photoUrl": "https://lh3.googleusercontent.com/-y8rfQvBFBF8/AAAAAAAAAAI/AAAAAAAAP-4/ooCzVQ-uc8k/s64/photo.jpg",
      "userId": "07730768489439528955"
     },
     "user_tz": 360
    },
    "id": "rfK7Vdce7Q0c",
    "outputId": "79d4ffaf-9602-4362-904b-e8cd1cc8adb9"
   },
   "outputs": [
    {
     "data": {
      "application/vnd.google.colaboratory.intrinsic+json": {
       "type": "string"
      },
      "text/plain": [
       "'/content/VOCdevkit_2007/VOC2007test'"
      ]
     },
     "execution_count": 14,
     "metadata": {
      "tags": []
     },
     "output_type": "execute_result"
    }
   ],
   "source": [
    "import shutil \n",
    "shutil.copyfile(\"VOCtrainval_06-Nov-2007.tar\", \"/content/VOCtrainval_06-Nov-2007.tar\")\n",
    "!tar -xf \"/content/VOCtrainval_06-Nov-2007.tar\" -C \"/content/\" \n",
    "shutil.move(\"/content/VOCdevkit/\", \"/content/VOCdevkit_2007\")\n",
    "\n",
    "shutil.copyfile(\"VOCtest_06-Nov-2007.tar\", \"/content/VOCtest_06-Nov-2007.tar\")\n",
    "!tar -xf \"/content/VOCtest_06-Nov-2007.tar\" -C \"/content/\" \n",
    "shutil.move(\"/content/VOCdevkit/VOC2007\", \"/content/VOCdevkit_2007/VOC2007test\")"
   ]
  },
  {
   "cell_type": "code",
   "execution_count": null,
   "metadata": {
    "colab": {
     "base_uri": "https://localhost:8080/",
     "height": 476
    },
    "executionInfo": {
     "elapsed": 6171307,
     "status": "ok",
     "timestamp": 1602737885299,
     "user": {
      "displayName": "Ayaan Pupala",
      "photoUrl": "https://lh3.googleusercontent.com/-y8rfQvBFBF8/AAAAAAAAAAI/AAAAAAAAP-4/ooCzVQ-uc8k/s64/photo.jpg",
      "userId": "07730768489439528955"
     },
     "user_tz": 300
    },
    "id": "k-wAu0M8N5GY",
    "outputId": "59a5abce-24b4-4a03-a3d3-1b1fc4b789f1"
   },
   "outputs": [
    {
     "name": "stdout",
     "output_type": "stream",
     "text": [
      "--2020-10-15 03:15:14--  http://pjreddie.com/media/files/VOCtrainval_06-Nov-2007.tar\n",
      "Resolving pjreddie.com (pjreddie.com)... 128.208.4.108\n",
      "Connecting to pjreddie.com (pjreddie.com)|128.208.4.108|:80... connected.\n",
      "HTTP request sent, awaiting response... 301 Moved Permanently\n",
      "Location: https://pjreddie.com/media/files/VOCtrainval_06-Nov-2007.tar [following]\n",
      "--2020-10-15 03:15:15--  https://pjreddie.com/media/files/VOCtrainval_06-Nov-2007.tar\n",
      "Connecting to pjreddie.com (pjreddie.com)|128.208.4.108|:443... connected.\n",
      "HTTP request sent, awaiting response... 200 OK\n",
      "Length: 460032000 (439M) [application/octet-stream]\n",
      "Saving to: ‘VOCtrainval_06-Nov-2007.tar’\n",
      "\n",
      "VOCtrainval_06-Nov- 100%[===================>] 438.72M  93.8KB/s    in 57m 25s \n",
      "\n",
      "2020-10-15 04:12:41 (130 KB/s) - ‘VOCtrainval_06-Nov-2007.tar’ saved [460032000/460032000]\n",
      "\n",
      "URL transformed to HTTPS due to an HSTS policy\n",
      "--2020-10-15 04:14:01--  https://pjreddie.com/media/files/VOCtest_06-Nov-2007.tar\n",
      "Resolving pjreddie.com (pjreddie.com)... 128.208.4.108\n",
      "Connecting to pjreddie.com (pjreddie.com)|128.208.4.108|:443... connected.\n",
      "HTTP request sent, awaiting response... 200 OK\n",
      "Length: 451020800 (430M) [application/octet-stream]\n",
      "Saving to: ‘VOCtest_06-Nov-2007.tar’\n",
      "\n",
      "VOCtest_06-Nov-2007 100%[===================>] 430.13M   174KB/s    in 42m 42s \n",
      "\n",
      "2020-10-15 04:56:44 (172 KB/s) - ‘VOCtest_06-Nov-2007.tar’ saved [451020800/451020800]\n",
      "\n"
     ]
    }
   ],
   "source": [
    "!sh download_data.sh"
   ]
  },
  {
   "cell_type": "code",
   "execution_count": 15,
   "metadata": {
    "executionInfo": {
     "elapsed": 316,
     "status": "ok",
     "timestamp": 1604637900064,
     "user": {
      "displayName": "Ayaan Pupala",
      "photoUrl": "https://lh3.googleusercontent.com/-y8rfQvBFBF8/AAAAAAAAAAI/AAAAAAAAP-4/ooCzVQ-uc8k/s64/photo.jpg",
      "userId": "07730768489439528955"
     },
     "user_tz": 360
    },
    "id": "L5-C8RfvKccd"
   },
   "outputs": [],
   "source": [
    "def train_classifier(train_loader, classifier, criterion, optimizer):\n",
    "    classifier.train()\n",
    "    loss_ = 0.0\n",
    "    losses = []\n",
    "    lambda1= lambda epoch: 0.65** epoch\n",
    "    #scheduler = torch.optim.lr_scheduler.CosineAnnealingLR(optimizer,T_max = 10,eta_min = 0)\n",
    "    #scheduler = torch.optim.lr_scheduler.StepLR(optimizer,step_size=2,gamma = 0.1)\n",
    "    #scheduler = torch.optim.lr_scheduler.LambdaLR(optimizer,lr_lambda=lambda1)\n",
    "    #scheduler = torch.optim.lr_scheduler.MultiplicativeLR(optimizer,lr_lambda=lambda1)\n",
    "    #scheduler = torch.optim.lr_scheduler.ExponentialLR(optimizer,gamma = 0.1)\n",
    "    for i, (images, labels, _) in enumerate(train_loader):\n",
    "        images, labels = images.to(device), labels.to(device)\n",
    "        optimizer.zero_grad()\n",
    "        logits = classifier(images)\n",
    "        loss = criterion(logits, labels)\n",
    "        loss.backward()\n",
    "        optimizer.step()\n",
    "        #scheduler.step()\n",
    "        losses.append(loss)\n",
    "    return torch.stack(losses).mean().item()"
   ]
  },
  {
   "cell_type": "code",
   "execution_count": 16,
   "metadata": {
    "executionInfo": {
     "elapsed": 324,
     "status": "ok",
     "timestamp": 1604637901863,
     "user": {
      "displayName": "Ayaan Pupala",
      "photoUrl": "https://lh3.googleusercontent.com/-y8rfQvBFBF8/AAAAAAAAAAI/AAAAAAAAP-4/ooCzVQ-uc8k/s64/photo.jpg",
      "userId": "07730768489439528955"
     },
     "user_tz": 360
    },
    "id": "3U9jvFRdKccg"
   },
   "outputs": [],
   "source": [
    "def test_classifier(test_loader, classifier, criterion, print_ind_classes=True, print_total=True):\n",
    "    classifier.eval()\n",
    "    losses = []\n",
    "    with torch.no_grad():\n",
    "        y_true = np.zeros((0,21))\n",
    "        y_score = np.zeros((0,21))\n",
    "        for i, (images, labels, _) in enumerate(test_loader):\n",
    "            images, labels = images.to(device), labels.to(device)\n",
    "            logits = classifier(images)\n",
    "            y_true = np.concatenate((y_true, labels.cpu().numpy()), axis=0)\n",
    "            y_score = np.concatenate((y_score, logits.cpu().numpy()), axis=0)\n",
    "            loss = criterion(logits, labels)\n",
    "            losses.append(loss.item())\n",
    "        aps = []\n",
    "        # ignore first class which is background\n",
    "        for i in range(1, y_true.shape[1]):\n",
    "            ap = average_precision_score(y_true[:, i], y_score[:, i])\n",
    "            if print_ind_classes:\n",
    "                print('-------  Class: {:<12}     AP: {:>8.4f}  -------'.format(VOC_CLASSES[i], ap))\n",
    "            aps.append(ap)\n",
    "        \n",
    "        mAP = np.mean(aps)\n",
    "        test_loss = np.mean(losses)\n",
    "        if print_total:\n",
    "            print('mAP: {0:.4f}'.format(mAP))\n",
    "            print('Avg loss: {}'.format(test_loss))\n",
    "        \n",
    "    return mAP, test_loss, aps"
   ]
  },
  {
   "cell_type": "code",
   "execution_count": 17,
   "metadata": {
    "executionInfo": {
     "elapsed": 263,
     "status": "ok",
     "timestamp": 1604637902665,
     "user": {
      "displayName": "Ayaan Pupala",
      "photoUrl": "https://lh3.googleusercontent.com/-y8rfQvBFBF8/AAAAAAAAAAI/AAAAAAAAP-4/ooCzVQ-uc8k/s64/photo.jpg",
      "userId": "07730768489439528955"
     },
     "user_tz": 360
    },
    "id": "qUAnnlHeKccj"
   },
   "outputs": [],
   "source": [
    "def plot_losses(train, val, test_frequency, num_epochs):\n",
    "    plt.plot(train, label=\"train\")\n",
    "    indices = [i for i in range(num_epochs) if ((i+1)%test_frequency == 0 or i ==0)]\n",
    "    plt.plot(indices, val, label=\"val\")\n",
    "    plt.title(\"Loss Plot\")\n",
    "    plt.ylabel(\"Loss\")\n",
    "    plt.xlabel(\"Epoch\")\n",
    "    plt.legend()\n",
    "    plt.show()\n",
    "    \n",
    "def plot_mAP(train, val, test_frequency, num_epochs):\n",
    "    indices = [i for i in range(num_epochs) if ((i+1)%test_frequency == 0 or i ==0)]\n",
    "    plt.plot(indices, train, label=\"train\")\n",
    "    plt.plot(indices, val, label=\"val\")\n",
    "    plt.title(\"mAP Plot\")\n",
    "    plt.ylabel(\"mAP\")\n",
    "    plt.xlabel(\"Epoch\")\n",
    "    plt.legend()\n",
    "    plt.show()\n",
    "    "
   ]
  },
  {
   "cell_type": "code",
   "execution_count": 18,
   "metadata": {
    "executionInfo": {
     "elapsed": 263,
     "status": "ok",
     "timestamp": 1604637903931,
     "user": {
      "displayName": "Ayaan Pupala",
      "photoUrl": "https://lh3.googleusercontent.com/-y8rfQvBFBF8/AAAAAAAAAAI/AAAAAAAAP-4/ooCzVQ-uc8k/s64/photo.jpg",
      "userId": "07730768489439528955"
     },
     "user_tz": 360
    },
    "id": "Z3SPNpYXKccn"
   },
   "outputs": [],
   "source": [
    "\n",
    "def train(classifier, num_epochs, train_loader, val_loader, criterion, optimizer, test_frequency=5):\n",
    "    train_losses = []\n",
    "    train_mAPs = []\n",
    "    val_losses = []\n",
    "    val_mAPs = []\n",
    "\n",
    "    for epoch in range(1,num_epochs+1):\n",
    "        print(\"Starting epoch number \" + str(epoch))\n",
    "        train_loss = train_classifier(train_loader, classifier, criterion, optimizer)\n",
    "        train_losses.append(train_loss)\n",
    "        print(\"Loss for Training on Epoch \" +str(epoch) + \" is \"+ str(train_loss))\n",
    "        if(epoch%test_frequency==0 or epoch==1):\n",
    "            mAP_train, _, _ = test_classifier(train_loader, classifier, criterion, False, False)\n",
    "            train_mAPs.append(mAP_train)\n",
    "            mAP_val, val_loss, _ = test_classifier(val_loader, classifier, criterion)\n",
    "            print('Evaluating classifier')\n",
    "            print(\"Mean Precision Score for Testing on Epoch \" +str(epoch) + \" is \"+ str(mAP_val))\n",
    "            val_losses.append(val_loss)\n",
    "            val_mAPs.append(mAP_val)\n",
    "    \n",
    "    return classifier, train_losses, val_losses, train_mAPs, val_mAPs"
   ]
  },
  {
   "cell_type": "code",
   "execution_count": 19,
   "metadata": {
    "executionInfo": {
     "elapsed": 1191,
     "status": "ok",
     "timestamp": 1604637907121,
     "user": {
      "displayName": "Ayaan Pupala",
      "photoUrl": "https://lh3.googleusercontent.com/-y8rfQvBFBF8/AAAAAAAAAAI/AAAAAAAAP-4/ooCzVQ-uc8k/s64/photo.jpg",
      "userId": "07730768489439528955"
     },
     "user_tz": 360
    },
    "id": "8mt0u1ZYKccr"
   },
   "outputs": [],
   "source": [
    "device = torch.device(\"cuda:0\" if torch.cuda.is_available() else \"cpu\")\n",
    "\n",
    "normalize = transforms.Normalize(mean=[0.485, 0.456, 0.406],\n",
    "                                     std= [0.229, 0.224, 0.225])\n",
    "\n",
    "train_transform = transforms.Compose([\n",
    "            transforms.Resize(227),\n",
    "            transforms.CenterCrop(227),\n",
    "            #transforms.RandomHorizontalFlip(),\n",
    "            #transforms.RandomResizedCrop(size=227),\n",
    "            transforms.ToTensor(),\n",
    "            normalize\n",
    "        ])\n",
    "\n",
    "test_transform = transforms.Compose([\n",
    "            transforms.Resize(227),\n",
    "            transforms.CenterCrop(227),\n",
    "            transforms.ToTensor(),\n",
    "            normalize,\n",
    "        ])\n",
    "\n",
    "ds_train = VocDataset('/content/VOCdevkit_2007/VOC2007/','train',train_transform)\n",
    "ds_val = VocDataset('/content/VOCdevkit_2007/VOC2007/','val',test_transform)\n",
    "ds_test = VocDataset('/content/VOCdevkit_2007/VOC2007test/','test', test_transform)\n"
   ]
  },
  {
   "cell_type": "code",
   "execution_count": 20,
   "metadata": {
    "executionInfo": {
     "elapsed": 247,
     "status": "ok",
     "timestamp": 1604637951302,
     "user": {
      "displayName": "Ayaan Pupala",
      "photoUrl": "https://lh3.googleusercontent.com/-y8rfQvBFBF8/AAAAAAAAAAI/AAAAAAAAP-4/ooCzVQ-uc8k/s64/photo.jpg",
      "userId": "07730768489439528955"
     },
     "user_tz": 360
    },
    "id": "w71zBQb4Kccx"
   },
   "outputs": [],
   "source": [
    "num_epochs = 20\n",
    "test_frequency = 20\n",
    "batch_size = 50\n",
    "\n",
    "train_loader = torch.utils.data.DataLoader(dataset=ds_train,\n",
    "                                               batch_size=batch_size, \n",
    "                                               shuffle=True,\n",
    "                                               num_workers=1)\n",
    "\n",
    "val_loader = torch.utils.data.DataLoader(dataset=ds_val,\n",
    "                                               batch_size=batch_size, \n",
    "                                               shuffle=True,\n",
    "                                               num_workers=1)\n",
    "\n",
    "test_loader = torch.utils.data.DataLoader(dataset=ds_test,\n",
    "                                               batch_size=batch_size, \n",
    "                                               shuffle=False,\n",
    "                                               num_workers=1)"
   ]
  },
  {
   "cell_type": "code",
   "execution_count": 27,
   "metadata": {
    "colab": {
     "base_uri": "https://localhost:8080/",
     "height": 0
    },
    "executionInfo": {
     "elapsed": 531923,
     "status": "ok",
     "timestamp": 1604640184066,
     "user": {
      "displayName": "Ayaan Pupala",
      "photoUrl": "https://lh3.googleusercontent.com/-y8rfQvBFBF8/AAAAAAAAAAI/AAAAAAAAP-4/ooCzVQ-uc8k/s64/photo.jpg",
      "userId": "07730768489439528955"
     },
     "user_tz": 360
    },
    "id": "SPa8WbEKKcc0",
    "outputId": "fe5ab55e-0053-4f18-c869-df40c56161ff"
   },
   "outputs": [
    {
     "name": "stdout",
     "output_type": "stream",
     "text": [
      "Starting epoch number 1\n",
      "Loss for Training on Epoch 1 is 0.5618860125541687\n",
      "-------  Class: aeroplane        AP:   0.1283  -------\n",
      "-------  Class: bicycle          AP:   0.0428  -------\n",
      "-------  Class: bird             AP:   0.1031  -------\n",
      "-------  Class: boat             AP:   0.1176  -------\n",
      "-------  Class: bottle           AP:   0.0400  -------\n",
      "-------  Class: bus              AP:   0.0286  -------\n",
      "-------  Class: car              AP:   0.1057  -------\n",
      "-------  Class: cat              AP:   0.0973  -------\n",
      "-------  Class: chair            AP:   0.1112  -------\n",
      "-------  Class: cow              AP:   0.0349  -------\n",
      "-------  Class: diningtable      AP:   0.0490  -------\n",
      "-------  Class: dog              AP:   0.1133  -------\n",
      "-------  Class: horse            AP:   0.0459  -------\n",
      "-------  Class: motorbike        AP:   0.0353  -------\n",
      "-------  Class: person           AP:   0.3452  -------\n",
      "-------  Class: pottedplant      AP:   0.0422  -------\n",
      "-------  Class: sheep            AP:   0.0348  -------\n",
      "-------  Class: sofa             AP:   0.0902  -------\n",
      "-------  Class: train            AP:   0.0397  -------\n",
      "-------  Class: tvmonitor        AP:   0.0480  -------\n",
      "mAP: 0.0827\n",
      "Avg loss: 0.3134320688013937\n",
      "Evaluating classifier\n",
      "Mean Precision Score for Testing on Epoch 1 is 0.08265737219820433\n",
      "Starting epoch number 2\n",
      "Loss for Training on Epoch 2 is 0.2575032711029053\n",
      "Starting epoch number 3\n",
      "Loss for Training on Epoch 3 is 0.24442075192928314\n",
      "Starting epoch number 4\n",
      "Loss for Training on Epoch 4 is 0.2433750331401825\n",
      "Starting epoch number 5\n",
      "Loss for Training on Epoch 5 is 0.24039648473262787\n",
      "Starting epoch number 6\n",
      "Loss for Training on Epoch 6 is 0.24251706898212433\n",
      "Starting epoch number 7\n",
      "Loss for Training on Epoch 7 is 0.24222776293754578\n",
      "Starting epoch number 8\n",
      "Loss for Training on Epoch 8 is 0.2419385462999344\n",
      "Starting epoch number 9\n",
      "Loss for Training on Epoch 9 is 0.24206648766994476\n",
      "Starting epoch number 10\n",
      "Loss for Training on Epoch 10 is 0.2434554100036621\n",
      "Starting epoch number 11\n",
      "Loss for Training on Epoch 11 is 0.2435828596353531\n",
      "Starting epoch number 12\n",
      "Loss for Training on Epoch 12 is 0.2415008246898651\n",
      "Starting epoch number 13\n",
      "Loss for Training on Epoch 13 is 0.23953403532505035\n",
      "Starting epoch number 14\n",
      "Loss for Training on Epoch 14 is 0.24180105328559875\n",
      "Starting epoch number 15\n",
      "Loss for Training on Epoch 15 is 0.24019765853881836\n",
      "Starting epoch number 16\n",
      "Loss for Training on Epoch 16 is 0.23908470571041107\n",
      "Starting epoch number 17\n",
      "Loss for Training on Epoch 17 is 0.23617547750473022\n",
      "Starting epoch number 18\n",
      "Loss for Training on Epoch 18 is 0.23823527991771698\n",
      "Starting epoch number 19\n",
      "Loss for Training on Epoch 19 is 0.23413529992103577\n",
      "Starting epoch number 20\n",
      "Loss for Training on Epoch 20 is 0.2394430935382843\n",
      "-------  Class: aeroplane        AP:   0.1067  -------\n",
      "-------  Class: bicycle          AP:   0.0579  -------\n",
      "-------  Class: bird             AP:   0.1296  -------\n",
      "-------  Class: boat             AP:   0.1031  -------\n",
      "-------  Class: bottle           AP:   0.0518  -------\n",
      "-------  Class: bus              AP:   0.0396  -------\n",
      "-------  Class: car              AP:   0.1690  -------\n",
      "-------  Class: cat              AP:   0.0947  -------\n",
      "-------  Class: chair            AP:   0.1576  -------\n",
      "-------  Class: cow              AP:   0.0381  -------\n",
      "-------  Class: diningtable      AP:   0.0762  -------\n",
      "-------  Class: dog              AP:   0.1200  -------\n",
      "-------  Class: horse            AP:   0.0560  -------\n",
      "-------  Class: motorbike        AP:   0.0457  -------\n",
      "-------  Class: person           AP:   0.4989  -------\n",
      "-------  Class: pottedplant      AP:   0.0590  -------\n",
      "-------  Class: sheep            AP:   0.0546  -------\n",
      "-------  Class: sofa             AP:   0.1026  -------\n",
      "-------  Class: train            AP:   0.0680  -------\n",
      "-------  Class: tvmonitor        AP:   0.0516  -------\n",
      "mAP: 0.1040\n",
      "Avg loss: 0.23302199209437652\n",
      "Evaluating classifier\n",
      "Mean Precision Score for Testing on Epoch 20 is 0.10403484267607539\n"
     ]
    }
   ],
   "source": [
    "# TODO: Run your own classifier here\n",
    "#classifier = SimpleClassifier().to(device)\n",
    "classifier = torchvision.models.alexnet(pretrained=False)\n",
    "#criterion= nn.BCELoss() crashes for some reason\n",
    "#criterion = nn.BCEWithLogitsLoss\n",
    "classifier.classifier._modules['6'] = nn.Linear(4096, 21)   \n",
    "classifier = classifier.to(device)\n",
    "criterion = nn.MultiLabelSoftMarginLoss()\n",
    "optimizer = torch.optim.SGD(classifier.parameters(), lr=0.01, momentum=0.9)\n",
    "#optimizer = torch.optim.Adam(classifier.parameters(), lr=1e-4)\n",
    "\n",
    "classifier, train_losses, val_losses, train_mAPs, val_mAPs = train(classifier, num_epochs, train_loader, val_loader, criterion, optimizer, test_frequency)\n"
   ]
  },
  {
   "cell_type": "code",
   "execution_count": 28,
   "metadata": {
    "colab": {
     "base_uri": "https://localhost:8080/",
     "height": 573
    },
    "executionInfo": {
     "elapsed": 782,
     "status": "ok",
     "timestamp": 1604640191556,
     "user": {
      "displayName": "Ayaan Pupala",
      "photoUrl": "https://lh3.googleusercontent.com/-y8rfQvBFBF8/AAAAAAAAAAI/AAAAAAAAP-4/ooCzVQ-uc8k/s64/photo.jpg",
      "userId": "07730768489439528955"
     },
     "user_tz": 360
    },
    "id": "ho42A869Kcc4",
    "outputId": "69f35224-7187-41b6-c6c1-2e73f6ae0dd5"
   },
   "outputs": [
    {
     "data": {
      "image/png": "[encoded data removed]",
      "text/plain": [
       "<Figure size 432x288 with 1 Axes>"
      ]
     },
     "metadata": {
      "needs_background": "light",
      "tags": []
     },
     "output_type": "display_data"
    },
    {
     "data": {
      "image/png": "[encoded data removed]",
      "text/plain": [
       "<Figure size 432x288 with 1 Axes>"
      ]
     },
     "metadata": {
      "needs_background": "light",
      "tags": []
     },
     "output_type": "display_data"
    }
   ],
   "source": [
    "plot_losses(train_losses, val_losses, test_frequency, num_epochs)\n",
    "plot_mAP(train_mAPs, val_mAPs, test_frequency, num_epochs)"
   ]
  },
  {
   "cell_type": "code",
   "execution_count": 29,
   "metadata": {
    "colab": {
     "base_uri": "https://localhost:8080/"
    },
    "executionInfo": {
     "elapsed": 44754,
     "status": "ok",
     "timestamp": 1604640258725,
     "user": {
      "displayName": "Ayaan Pupala",
      "photoUrl": "https://lh3.googleusercontent.com/-y8rfQvBFBF8/AAAAAAAAAAI/AAAAAAAAP-4/ooCzVQ-uc8k/s64/photo.jpg",
      "userId": "07730768489439528955"
     },
     "user_tz": 360
    },
    "id": "I4NdpmXdKcc6",
    "outputId": "ab2c2c14-e1a8-47d7-89b4-f36f81bbab8a"
   },
   "outputs": [
    {
     "name": "stdout",
     "output_type": "stream",
     "text": [
      "-------  Class: aeroplane        AP:   0.0810  -------\n",
      "-------  Class: bicycle          AP:   0.0560  -------\n",
      "-------  Class: bird             AP:   0.1008  -------\n",
      "-------  Class: boat             AP:   0.0777  -------\n",
      "-------  Class: bottle           AP:   0.0525  -------\n",
      "-------  Class: bus              AP:   0.0363  -------\n",
      "-------  Class: car              AP:   0.1595  -------\n",
      "-------  Class: cat              AP:   0.0967  -------\n",
      "-------  Class: chair            AP:   0.1422  -------\n",
      "-------  Class: cow              AP:   0.0430  -------\n",
      "-------  Class: diningtable      AP:   0.0613  -------\n",
      "-------  Class: dog              AP:   0.1255  -------\n",
      "-------  Class: horse            AP:   0.0545  -------\n",
      "-------  Class: motorbike        AP:   0.0418  -------\n",
      "-------  Class: person           AP:   0.5007  -------\n",
      "-------  Class: pottedplant      AP:   0.0507  -------\n",
      "-------  Class: sheep            AP:   0.0612  -------\n",
      "-------  Class: sofa             AP:   0.1056  -------\n",
      "-------  Class: train            AP:   0.0775  -------\n",
      "-------  Class: tvmonitor        AP:   0.0519  -------\n",
      "mAP: 0.0988\n",
      "Avg loss: 0.2291518995165825\n",
      "0.09882020216803501\n"
     ]
    }
   ],
   "source": [
    "mAP_test, test_loss, test_aps = test_classifier(test_loader, classifier, criterion)\n",
    "print(mAP_test)"
   ]
  },
  {
   "cell_type": "code",
   "execution_count": null,
   "metadata": {
    "id": "ErIXOmWZKcc8"
   },
   "outputs": [],
   "source": [
    "torch.save(classifier.state_dict(), './voc_my_best_classifier.pth')\n",
    "output_submission_csv('my_solution.csv', test_aps)"
   ]
  },
  {
   "cell_type": "code",
   "execution_count": null,
   "metadata": {
    "id": "a1U_Vc6vKcc_"
   },
   "outputs": [],
   "source": []
  }
 ],
 "metadata": {
  "accelerator": "GPU",
  "colab": {
   "name": "MP3_P1B_Develop_Classifier.ipynb",
   "provenance": []
  },
  "kernelspec": {
   "display_name": "Python 3",
   "language": "python",
   "name": "python3"
  },
  "language_info": {
   "codemirror_mode": {
    "name": "ipython",
    "version": 3
   },
   "file_extension": ".py",
   "mimetype": "text/x-python",
   "name": "python",
   "nbconvert_exporter": "python",
   "pygments_lexer": "ipython3",
   "version": "3.8.3"
  }
 },
 "nbformat": 4,
 "nbformat_minor": 1
}
